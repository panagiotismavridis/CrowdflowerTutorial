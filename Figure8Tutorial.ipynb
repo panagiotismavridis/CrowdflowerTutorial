{
 "cells": [
  {
   "cell_type": "code",
   "execution_count": 16,
   "metadata": {},
   "outputs": [],
   "source": [
    "import requests\n",
    "import json\n",
    "api_key=\"jgEAbFKSLtee6sz59N\"\n",
    "#creating blank task"
   ]
  },
  {
   "cell_type": "code",
   "execution_count": 18,
   "metadata": {},
   "outputs": [],
   "source": [
    "#Getting the response of the api call into a json file\n",
    "response=requests.post(\"https://api.figure-eight.com/v1/jobs.json?key=\"+api_key)"
   ]
  },
  {
   "cell_type": "code",
   "execution_count": 19,
   "metadata": {},
   "outputs": [
    {
     "name": "stdout",
     "output_type": "stream",
     "text": [
      "200\n"
     ]
    }
   ],
   "source": [
    "#response status code\n",
    "print(response.status_code)"
   ]
  },
  {
   "cell_type": "code",
   "execution_count": 20,
   "metadata": {},
   "outputs": [
    {
     "name": "stdout",
     "output_type": "stream",
     "text": [
      "<Response [200]>\n"
     ]
    }
   ],
   "source": [
    "#response object\n",
    "print(response)"
   ]
  },
  {
   "cell_type": "code",
   "execution_count": 21,
   "metadata": {
    "scrolled": true
   },
   "outputs": [
    {
     "name": "stdout",
     "output_type": "stream",
     "text": [
      "b'{\"id\":1264679,\"options\":{\"logical_aggregation\":true,\"mail_to\":\"p.mavridis@tudelft.nl\",\"req_ttl_in_seconds\":1800},\"title\":null,\"secret\":\"yIeDQfT0GE0uWJBEObi7mS8yLuC4rvCzqOAE4FIBVDAH\",\"project_number\":null,\"alias\":null,\"judgments_per_unit\":3,\"units_per_assignment\":5,\"pages_per_assignment\":1,\"max_judgments_per_worker\":null,\"gold_per_assignment\":1,\"minimum_account_age_seconds\":null,\"execution_mode\":\"worker_ui_remix\",\"payment_cents\":10,\"design_verified\":true,\"public_data\":true,\"variable_judgments_mode\":\"none\",\"max_judgments_per_unit\":null,\"expected_judgments_per_unit\":null,\"min_unit_confidence\":null,\"units_remain_finalized\":null,\"auto_order_timeout\":null,\"auto_order_threshold\":4,\"completed_at\":null,\"state\":\"unordered\",\"auto_order\":false,\"webhook_uri\":null,\"send_judgments_webhook\":null,\"language\":\"en\",\"minimum_requirements\":null,\"desired_requirements\":null,\"max_work_per_network\":null,\"copied_from\":null,\"created_at\":\"2018-05-08T19:30:37+00:00\",\"updated_at\":\"2018-05-08T19:30:37+00:00\",\"included_countries\":[],\"excluded_countries\":[],\"instructions\":\"\",\"cml\":null,\"js\":null,\"css\":null,\"confidence_fields\":null,\"gold\":{},\"units_count\":0,\"golds_count\":0,\"judgments_count\":0,\"support_email\":\"p.mavridis@tudelft.nl\",\"worker_ui_remix\":true,\"crowd_costs\":0.0,\"quiz_mode_enabled\":false,\"completed\":false,\"fields\":null,\"order_approved\":false}'\n"
     ]
    }
   ],
   "source": [
    "#response content, job details\n",
    "print(response.content)"
   ]
  },
  {
   "cell_type": "code",
   "execution_count": null,
   "metadata": {},
   "outputs": [],
   "source": [
    "#Creating task with title, instructions and no data"
   ]
  },
  {
   "cell_type": "code",
   "execution_count": 117,
   "metadata": {},
   "outputs": [
    {
     "name": "stdout",
     "output_type": "stream",
     "text": [
      "b'{\"id\":1264900,\"options\":{\"logical_aggregation\":true,\"mail_to\":\"p.mavridis@tudelft.nl\",\"req_ttl_in_seconds\":1800},\"title\":\"Captcha Api Task\",\"secret\":\"PEELK2HWUYM2cS0ryFvyW/a91Za6Ucz/QBVSabLG8ZXC\",\"project_number\":null,\"alias\":null,\"judgments_per_unit\":3,\"units_per_assignment\":5,\"pages_per_assignment\":1,\"max_judgments_per_worker\":null,\"gold_per_assignment\":1,\"minimum_account_age_seconds\":null,\"execution_mode\":\"worker_ui_remix\",\"payment_cents\":10,\"design_verified\":true,\"public_data\":true,\"variable_judgments_mode\":\"none\",\"max_judgments_per_unit\":null,\"expected_judgments_per_unit\":null,\"min_unit_confidence\":null,\"units_remain_finalized\":null,\"auto_order_timeout\":null,\"auto_order_threshold\":4,\"completed_at\":null,\"state\":\"unordered\",\"auto_order\":false,\"webhook_uri\":null,\"send_judgments_webhook\":null,\"language\":\"en\",\"minimum_requirements\":null,\"desired_requirements\":null,\"max_work_per_network\":null,\"copied_from\":null,\"created_at\":\"2018-05-09T08:33:37+00:00\",\"updated_at\":\"2018-05-09T08:33:38+00:00\",\"included_countries\":[],\"excluded_countries\":[],\"instructions\":\"<h1>Overview</h1><p>Please looking at the pictures enter the captcha that is shown.</p><hr><h1>Steps</h1><p>1. Look at the picture.</p><p>2. Identify the characters.</p><p>3. Write down the characters that you see.</p><p>4. Rate the readability of the image.</p><p>5. Do this for all images.</p><p>6. Submit your work.</p><hr><h1>Rules &amp; Tips</h1><p>Don\\'t use special characters unless the image has any.</p><p><img src=\\\\\"https://s3.amazonaws.com/crowdflower-make-cloud/images%2F1525780232953-untitled\\\\\" alt=\\\\\"\\xc3\\x8e\\xc2\\x91\\xc3\\x8f\\xc2\\x80\\xc3\\x8e\\xc2\\xbf\\xc3\\x8f\\xc2\\x84\\xc3\\x8e\\xc2\\xad\\xc3\\x8e\\xc2\\xbb\\xc3\\x8e\\xc2\\xb5\\xc3\\x8f\\xc2\\x83\\xc3\\x8e\\xc2\\xbc\\xc3\\x8e\\xc2\\xb1 \\xc3\\x8e\\xc2\\xb5\\xc3\\x8e\\xc2\\xb9\\xc3\\x8e\\xc2\\xba\\xc3\\x8f\\xc2\\x8c\\xc3\\x8e\\xc2\\xbd\\xc3\\x8e\\xc2\\xb1\\xc3\\x8f\\xc2\\x82 \\xc3\\x8e\\xc2\\xb3\\xc3\\x8e\\xc2\\xb9\\xc3\\x8e\\xc2\\xb1 captcha image\\\\\" class=\\\\\"fr-fic fr-dii\\\\\"></p>\\\\n<p>Don\\'t use any other characters unless the image has them already :)</p><hr><h1>Examples</h1><p><br></p><p>not a robot</p><p>What was the quality of the readability of the captcha image?<br>4 Very readable</p><p><br></p><hr>\",\"cml\":\"<div class=\\\\\"html-element-wrapper\\\\\">\\\\n  <a target=\\\\\"_blank\\\\\" href=\\\\\"{{link}}\\\\\">\\\\n    <span>\\\\n      <img span=\\\\\"\\\\\" class=\\\\\"fr-fic fr-dii\\\\\" />\\\\n    </span>\\\\n    <span>{{link}}</span>\\\\n  </a>\\\\n  <p>\\\\n    <span>\\\\n      <img class=\\\\\"liquid-image\\\\\" src=\\\\\"{{link}}\\\\\" />\\\\n    </span>\\\\n    <br />\\\\n  </p>\\\\n  <p>\\\\n    <br />\\\\n  </p>\\\\n</div>\\\\n<cml:text label=\\\\\"Please enter the characters of the Captcha\\\\\" validates=\\\\\"required\\\\\" name=\\\\\"please_enter_the_character_of_the_captcha\\\\\" aggregation=\\\\\"all\\\\\" gold=\\\\\"true\\\\\" />\",\"js\":null,\"css\":null,\"confidence_fields\":null,\"gold\":{\"please_enter_the_character_of_the_captcha\":\"please_enter_the_character_of_the_captcha_gold\"},\"units_count\":0,\"golds_count\":0,\"judgments_count\":0,\"support_email\":\"p.mavridis@tudelft.nl\",\"worker_ui_remix\":true,\"crowd_costs\":0.0,\"quiz_mode_enabled\":false,\"completed\":false,\"fields\":null,\"order_approved\":false}'\n"
     ]
    }
   ],
   "source": [
    "API_KEY = \"jgEAFKSCLtee6Yz59N\"\n",
    "job_title= \"Captcha Api task\"\n",
    "instructions=\"<h1>Overview</h1><p>Please looking at the pictures enter the captcha that is shown.</p><hr><h1>Steps</h1><p>1. Look at the picture.</p><p>2. Identify the characters.</p><p>3. Write down the characters that you see.</p><p>4. Rate the readability of the image.</p>\"\n",
    "instructions+=\"<p>5. Do this for all images.</p><p>6. Submit your work.</p><hr><h1>Rules &amp; Tips</h1>\"\n",
    "instructions+=\"<p>Don't use special characters unless the image has any.</p>\"\n",
    "instructions+=\"\"\"<p><img src=\"https://s3.amazonaws.com/crowdflower-make-cloud/images%2F1525780232953-untitled\" alt=\"ÎÏÎ¿ÏÎ­Î»ÎµÏÎ¼Î± ÎµÎ¹ÎºÏÎ½Î±Ï Î³Î¹Î± captcha image\" class=\"fr-fic fr-dii\"></p>\n",
    "\"\"\"\n",
    "instructions+=\"<p>Don't use any other characters unless the image has them already :)</p>\"\n",
    "instructions+=\"<hr><h1>Examples</h1><p><br></p>\"\n",
    "\n",
    "instructions+=\"<p>not a robot</p><p>What was the quality of the readability of the captcha image?<br>4 Very readable</p><p><br></p><hr>\"\n",
    "\n",
    "request_url = \"https://api.figure-eight.com/v1/jobs.json\"\n",
    "headers = {'content-type': 'application/json'}\n",
    "\n",
    "cml=\"\"\"<div class=\"html-element-wrapper\">\n",
    "  <a target=\"_blank\" href=\"{{link}}\">\n",
    "    <span>\n",
    "      <img span=\"\" class=\"fr-fic fr-dii\" />\n",
    "    </span>\n",
    "    <span>{{link}}</span>\n",
    "  </a>\n",
    "  <p>\n",
    "    <span>\n",
    "      <img class=\"liquid-image\" src=\"{{link}}\" />\n",
    "    </span>\n",
    "    <br />\n",
    "  </p>\n",
    "  <p>\n",
    "    <br />\n",
    "  </p>\n",
    "</div>\n",
    "<cml:text label=\"Please enter the characters of the Captcha\" validates=\"required\" name=\"please_enter_the_character_of_the_captcha\" aggregation=\"all\" gold=\"true\" />\"\"\"\n",
    "\n",
    "payload = {\n",
    "'key': API_KEY,\n",
    "'job':{\n",
    "'title': job_title,\n",
    "'instructions': instructions,\n",
    "'cml': cml\n",
    "}\n",
    "}\n",
    "\n",
    "response=requests.post(request_url, data=json.dumps(payload), headers=headers)\n",
    "print(response.content)"
   ]
  },
  {
   "cell_type": "code",
   "execution_count": 118,
   "metadata": {},
   "outputs": [
    {
     "name": "stdout",
     "output_type": "stream",
     "text": [
      "1264900\n"
     ]
    }
   ],
   "source": [
    "#find job id and save it\n",
    "workJson = json.loads(response.content)\n",
    "job_id = workJson['id']\n",
    "print(job_id)"
   ]
  },
  {
   "cell_type": "code",
   "execution_count": 119,
   "metadata": {},
   "outputs": [],
   "source": [
    "#Updating the task we had created before by adding data row by row (unit by unit)\n",
    "API_KEY = \"jgEAbFKSCLtee6sYz59N\"\n",
    "\n",
    "data = {\"link\": \"https://www.scienceabc.com/wp-content/uploads/2016/07/Captcha-ex.jpg\"}\n",
    "\n",
    "request_url = \"https://api.figure-eight.com/v1/jobs/{}/units.json\".format(job_id)\n",
    "headers = {'content-type': 'application/json'}\n",
    "\n",
    "payload = {\n",
    "'key': API_KEY,\n",
    "'unit': {\n",
    "'data': data\n",
    "}\n",
    "}\n",
    "response=requests.post(request_url, data=json.dumps(payload), headers=headers)"
   ]
  },
  {
   "cell_type": "code",
   "execution_count": 120,
   "metadata": {},
   "outputs": [
    {
     "name": "stdout",
     "output_type": "stream",
     "text": [
      "b'{\"id\":1724529930,\"data\":{\"link\":\"https://www.scienceabc.com/wp-content/uploads/2016/07/Captcha-ex.jpg\"},\"judgments_count\":0,\"state\":\"new\",\"agreement\":null,\"missed_count\":0,\"gold_pool\":null,\"created_at\":\"2018-05-09T08:35:25+00:00\",\"updated_at\":\"2018-05-09T08:35:25+00:00\",\"job_id\":1264900,\"results\":{\"judgments\":[]},\"message\":{\"notice\":\"Unit was successfully created\"}}'\n"
     ]
    }
   ],
   "source": [
    "#row per row posting of data\n",
    "\n",
    "print(response.content)\n",
    "\n",
    "data = {\"link\": \"https://encrypted-tbn0.gstatic.com/images?q=tbn:ANd9GcTA-Gi8p3udDewYGuYnAh2ai3J-c29APFuGBJpmMSt7hIVmAesqSQ\"}\n",
    "payload = {\n",
    "'key': API_KEY,\n",
    "'unit': {\n",
    "'data': data\n",
    "}\n",
    "}\n",
    "response=requests.post(request_url, data=json.dumps(payload), headers=headers)"
   ]
  },
  {
   "cell_type": "code",
   "execution_count": 121,
   "metadata": {},
   "outputs": [
    {
     "name": "stdout",
     "output_type": "stream",
     "text": [
      "b'{\"id\":1724529973,\"data\":{\"link\":\"https://encrypted-tbn0.gstatic.com/images?q=tbn:ANd9GcTA-Gi8p3udDewYGuYnAh2ai3J-c29APFuGBJpmMSt7hIVmAesqSQ\"},\"judgments_count\":0,\"state\":\"new\",\"agreement\":null,\"missed_count\":0,\"gold_pool\":null,\"created_at\":\"2018-05-09T08:35:36+00:00\",\"updated_at\":\"2018-05-09T08:35:36+00:00\",\"job_id\":1264900,\"results\":{\"judgments\":[]},\"message\":{\"notice\":\"Unit was successfully created\"}}'\n"
     ]
    }
   ],
   "source": [
    "print(response.content)"
   ]
  }
 ],
 "metadata": {
  "kernelspec": {
   "display_name": "Python 3",
   "language": "python",
   "name": "python3"
  },
  "language_info": {
   "codemirror_mode": {
    "name": "ipython",
    "version": 3
   },
   "file_extension": ".py",
   "mimetype": "text/x-python",
   "name": "python",
   "nbconvert_exporter": "python",
   "pygments_lexer": "ipython3",
   "version": "3.6.4"
  }
 },
 "nbformat": 4,
 "nbformat_minor": 2
}
